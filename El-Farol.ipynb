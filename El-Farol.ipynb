{
 "cells": [
  {
   "cell_type": "code",
   "execution_count": 1,
   "id": "1c31f93d",
   "metadata": {},
   "outputs": [],
   "source": [
    "import numpy as np\n",
    "from mesa import Agent, Model\n",
    "from mesa.time import RandomActivation\n",
    "from mesa.visualization.ModularVisualization import ModularServer\n",
    "from mesa.datacollection import DataCollector"
   ]
  },
  {
   "cell_type": "code",
   "execution_count": 2,
   "id": "850c32a1",
   "metadata": {},
   "outputs": [],
   "source": [
    "MAX_MEMORY = 10\n",
    "N_AGENTS = 100\n",
    "OPTIMAL_ATTENDANCE = 60"
   ]
  },
  {
   "cell_type": "code",
   "execution_count": 3,
   "id": "095544b2",
   "metadata": {},
   "outputs": [],
   "source": [
    "def calculate_attendance(model):\n",
    "    return len([1 for agent in model.schedule.agents if agent.go_to_elfarol])"
   ]
  },
  {
   "cell_type": "code",
   "execution_count": 4,
   "id": "957283dc",
   "metadata": {},
   "outputs": [],
   "source": [
    "class Person(Agent):\n",
    "    \n",
    "    def __init__(self, uid, n_strategy, memory, model):\n",
    "        super().__init__(uid, model)\n",
    "        self.go_to_elfarol = 0\n",
    "        self.prediction = None\n",
    "        self.n_strategy = n_strategy\n",
    "        self.memory = memory\n",
    "        self.a_s = np.random.uniform(-1, 1, (n_strategy, memory + 1))\n",
    "   \n",
    "            \n",
    "    def step(self):\n",
    "        #print(f\"I'm agent {self.unique_id} and my wealth is {self.wealth}.\")\n",
    "        history = self.model.attendace_history\n",
    "        training_history = np.array(history[-self.memory-1:-1] + [1])\n",
    "        best_strategy = np.argmin(np.abs(np.dot(self.a_s,training_history)\n",
    "                                         -OPTIMAL_ATTENDANCE))\n",
    "        test_history = np.array(history[-self.memory:] + [1])\n",
    "        self.prediction = np.dot(self.a_s[best_strategy], test_history)\n",
    "        if self.prediction <= OPTIMAL_ATTENDANCE:\n",
    "            self.go_to_elfarol = 1\n",
    "        else:\n",
    "            self.go_to_elfarol = 0\n",
    "        \n",
    "        \n",
    "class ElFarolModel(Model):\n",
    "    \n",
    "    def __init__(self, N):\n",
    "        super().__init__()\n",
    "        self.num_agents = N\n",
    "        self.schedule = RandomActivation(self)\n",
    "        self.attendace_history = [\n",
    "            np.random.randint(OPTIMAL_ATTENDANCE-10, OPTIMAL_ATTENDANCE+10)\n",
    "            for _ in range(MAX_MEMORY+1)]\n",
    "        \n",
    "        for i in range(0, self.num_agents):\n",
    "            a = Person(i, 80, np.random.randint(1,MAX_MEMORY), self)\n",
    "            self.schedule.add(a)\n",
    "           \n",
    "        self.datacollector = DataCollector(\n",
    "                             model_reporters={\"Attendace\": calculate_attendance},\n",
    "                             agent_reporters={\"Go_to_elfarol\": \"go_to_elfarol\",\n",
    "                                              \"Prediction\": \"prediction\"}\n",
    "                             )\n",
    "            \n",
    "    def step(self):\n",
    "        self.datacollector.collect(self)\n",
    "        self.schedule.step()\n",
    "        real_attendance = calculate_attendance(self)\n",
    "        self.attendace_history.append(real_attendance)\n",
    "                         "
   ]
  },
  {
   "cell_type": "code",
   "execution_count": 5,
   "id": "56eff164",
   "metadata": {},
   "outputs": [
    {
     "name": "stderr",
     "output_type": "stream",
     "text": [
      "/Users/simoneconradi/anaconda3/lib/python3.11/site-packages/mesa/time.py:82: FutureWarning: The AgentSet is experimental. It may be changed or removed in any and all future releases, including patch releases.\n",
      "We would love to hear what you think about this new feature. If you have any thoughts, share them with us here: https://github.com/projectmesa/mesa/discussions/1919\n",
      "  self._agents: AgentSet = AgentSet(agents, model)\n"
     ]
    }
   ],
   "source": [
    "model = ElFarolModel(N_AGENTS)\n",
    "for _ in range(500):\n",
    "    model.step()"
   ]
  },
  {
   "cell_type": "code",
   "execution_count": 6,
   "id": "a6cb0fd6",
   "metadata": {},
   "outputs": [
    {
     "data": {
      "text/html": [
       "<div>\n",
       "<style scoped>\n",
       "    .dataframe tbody tr th:only-of-type {\n",
       "        vertical-align: middle;\n",
       "    }\n",
       "\n",
       "    .dataframe tbody tr th {\n",
       "        vertical-align: top;\n",
       "    }\n",
       "\n",
       "    .dataframe thead th {\n",
       "        text-align: right;\n",
       "    }\n",
       "</style>\n",
       "<table border=\"1\" class=\"dataframe\">\n",
       "  <thead>\n",
       "    <tr style=\"text-align: right;\">\n",
       "      <th></th>\n",
       "      <th>Attendace</th>\n",
       "    </tr>\n",
       "  </thead>\n",
       "  <tbody>\n",
       "    <tr>\n",
       "      <th>0</th>\n",
       "      <td>0</td>\n",
       "    </tr>\n",
       "    <tr>\n",
       "      <th>1</th>\n",
       "      <td>49</td>\n",
       "    </tr>\n",
       "    <tr>\n",
       "      <th>2</th>\n",
       "      <td>61</td>\n",
       "    </tr>\n",
       "    <tr>\n",
       "      <th>3</th>\n",
       "      <td>51</td>\n",
       "    </tr>\n",
       "    <tr>\n",
       "      <th>4</th>\n",
       "      <td>59</td>\n",
       "    </tr>\n",
       "    <tr>\n",
       "      <th>...</th>\n",
       "      <td>...</td>\n",
       "    </tr>\n",
       "    <tr>\n",
       "      <th>495</th>\n",
       "      <td>65</td>\n",
       "    </tr>\n",
       "    <tr>\n",
       "      <th>496</th>\n",
       "      <td>49</td>\n",
       "    </tr>\n",
       "    <tr>\n",
       "      <th>497</th>\n",
       "      <td>65</td>\n",
       "    </tr>\n",
       "    <tr>\n",
       "      <th>498</th>\n",
       "      <td>46</td>\n",
       "    </tr>\n",
       "    <tr>\n",
       "      <th>499</th>\n",
       "      <td>67</td>\n",
       "    </tr>\n",
       "  </tbody>\n",
       "</table>\n",
       "<p>500 rows × 1 columns</p>\n",
       "</div>"
      ],
      "text/plain": [
       "     Attendace\n",
       "0            0\n",
       "1           49\n",
       "2           61\n",
       "3           51\n",
       "4           59\n",
       "..         ...\n",
       "495         65\n",
       "496         49\n",
       "497         65\n",
       "498         46\n",
       "499         67\n",
       "\n",
       "[500 rows x 1 columns]"
      ]
     },
     "execution_count": 6,
     "metadata": {},
     "output_type": "execute_result"
    }
   ],
   "source": [
    "model.datacollector.get_model_vars_dataframe()"
   ]
  },
  {
   "cell_type": "code",
   "execution_count": 7,
   "id": "c30ce8b5",
   "metadata": {},
   "outputs": [
    {
     "data": {
      "text/plain": [
       "<Axes: >"
      ]
     },
     "execution_count": 7,
     "metadata": {},
     "output_type": "execute_result"
    },
    {
     "data": {
      "image/png": "[encoded data removed]",
      "text/plain": [
       "<Figure size 640x480 with 1 Axes>"
      ]
     },
     "metadata": {},
     "output_type": "display_data"
    }
   ],
   "source": [
    "gini = model.datacollector.get_model_vars_dataframe()\n",
    "gini.plot()"
   ]
  },
  {
   "cell_type": "code",
   "execution_count": 8,
   "id": "009851a8",
   "metadata": {},
   "outputs": [
    {
     "data": {
      "text/plain": [
       "Attendace    56.286\n",
       "dtype: float64"
      ]
     },
     "execution_count": 8,
     "metadata": {},
     "output_type": "execute_result"
    }
   ],
   "source": [
    "gini.mean()"
   ]
  },
  {
   "cell_type": "code",
   "execution_count": 9,
   "id": "ac5261f3",
   "metadata": {},
   "outputs": [
    {
     "data": {
      "text/html": [
       "<div>\n",
       "<style scoped>\n",
       "    .dataframe tbody tr th:only-of-type {\n",
       "        vertical-align: middle;\n",
       "    }\n",
       "\n",
       "    .dataframe tbody tr th {\n",
       "        vertical-align: top;\n",
       "    }\n",
       "\n",
       "    .dataframe thead th {\n",
       "        text-align: right;\n",
       "    }\n",
       "</style>\n",
       "<table border=\"1\" class=\"dataframe\">\n",
       "  <thead>\n",
       "    <tr style=\"text-align: right;\">\n",
       "      <th></th>\n",
       "      <th></th>\n",
       "      <th>Go_to_elfarol</th>\n",
       "      <th>Prediction</th>\n",
       "    </tr>\n",
       "    <tr>\n",
       "      <th>Step</th>\n",
       "      <th>AgentID</th>\n",
       "      <th></th>\n",
       "      <th></th>\n",
       "    </tr>\n",
       "  </thead>\n",
       "  <tbody>\n",
       "    <tr>\n",
       "      <th rowspan=\"5\" valign=\"top\">0</th>\n",
       "      <th>0</th>\n",
       "      <td>0</td>\n",
       "      <td>NaN</td>\n",
       "    </tr>\n",
       "    <tr>\n",
       "      <th>1</th>\n",
       "      <td>0</td>\n",
       "      <td>NaN</td>\n",
       "    </tr>\n",
       "    <tr>\n",
       "      <th>2</th>\n",
       "      <td>0</td>\n",
       "      <td>NaN</td>\n",
       "    </tr>\n",
       "    <tr>\n",
       "      <th>3</th>\n",
       "      <td>0</td>\n",
       "      <td>NaN</td>\n",
       "    </tr>\n",
       "    <tr>\n",
       "      <th>4</th>\n",
       "      <td>0</td>\n",
       "      <td>NaN</td>\n",
       "    </tr>\n",
       "    <tr>\n",
       "      <th>...</th>\n",
       "      <th>...</th>\n",
       "      <td>...</td>\n",
       "      <td>...</td>\n",
       "    </tr>\n",
       "    <tr>\n",
       "      <th rowspan=\"5\" valign=\"top\">499</th>\n",
       "      <th>27</th>\n",
       "      <td>0</td>\n",
       "      <td>70.667487</td>\n",
       "    </tr>\n",
       "    <tr>\n",
       "      <th>15</th>\n",
       "      <td>0</td>\n",
       "      <td>84.340157</td>\n",
       "    </tr>\n",
       "    <tr>\n",
       "      <th>10</th>\n",
       "      <td>1</td>\n",
       "      <td>54.351417</td>\n",
       "    </tr>\n",
       "    <tr>\n",
       "      <th>80</th>\n",
       "      <td>1</td>\n",
       "      <td>41.436122</td>\n",
       "    </tr>\n",
       "    <tr>\n",
       "      <th>19</th>\n",
       "      <td>1</td>\n",
       "      <td>35.041750</td>\n",
       "    </tr>\n",
       "  </tbody>\n",
       "</table>\n",
       "<p>50000 rows × 2 columns</p>\n",
       "</div>"
      ],
      "text/plain": [
       "              Go_to_elfarol  Prediction\n",
       "Step AgentID                           \n",
       "0    0                    0         NaN\n",
       "     1                    0         NaN\n",
       "     2                    0         NaN\n",
       "     3                    0         NaN\n",
       "     4                    0         NaN\n",
       "...                     ...         ...\n",
       "499  27                   0   70.667487\n",
       "     15                   0   84.340157\n",
       "     10                   1   54.351417\n",
       "     80                   1   41.436122\n",
       "     19                   1   35.041750\n",
       "\n",
       "[50000 rows x 2 columns]"
      ]
     },
     "execution_count": 9,
     "metadata": {},
     "output_type": "execute_result"
    }
   ],
   "source": [
    "agent_data = model.datacollector.get_agent_vars_dataframe()\n",
    "agent_data"
   ]
  },
  {
   "cell_type": "code",
   "execution_count": 10,
   "id": "69cf2758",
   "metadata": {},
   "outputs": [
    {
     "data": {
      "text/plain": [
       "array([334, 302, 252, 318, 209, 252, 265, 314, 362, 348, 281, 331, 361,\n",
       "       271, 316, 229, 176, 286, 260, 258, 373, 127, 359, 276, 235, 257,\n",
       "       328, 263, 280, 201, 276, 257, 303, 328, 284, 297, 225, 241, 287,\n",
       "       245, 147, 391, 294, 289, 334, 311, 273, 298, 266, 381, 250, 268,\n",
       "       281, 234, 224, 169, 265, 352, 340, 224, 216, 227, 174, 202, 298,\n",
       "       282, 300, 213, 304, 274, 204, 326, 179, 365, 271, 264, 245, 315,\n",
       "       294, 264, 447, 327, 335, 269, 350, 287, 307, 348, 253, 391, 306,\n",
       "       265, 280, 329, 408, 257, 324, 308, 147, 230])"
      ]
     },
     "execution_count": 10,
     "metadata": {},
     "output_type": "execute_result"
    }
   ],
   "source": [
    "agent_data.groupby([\"AgentID\"]).sum(\"Go_to_elfarol\")[\"Go_to_elfarol\"].values"
   ]
  }
 ],
 "metadata": {
  "kernelspec": {
   "display_name": "Python 3 (ipykernel)",
   "language": "python",
   "name": "python3"
  },
  "language_info": {
   "codemirror_mode": {
    "name": "ipython",
    "version": 3
   },
   "file_extension": ".py",
   "mimetype": "text/x-python",
   "name": "python",
   "nbconvert_exporter": "python",
   "pygments_lexer": "ipython3",
   "version": "3.11.7"
  }
 },
 "nbformat": 4,
 "nbformat_minor": 5
}
